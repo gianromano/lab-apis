{
 "cells": [
  {
   "cell_type": "markdown",
   "id": "27422808-8a16-4be1-897f-57b379af8991",
   "metadata": {},
   "source": [
    "# Lab | APIs"
   ]
  },
  {
   "cell_type": "code",
   "execution_count": 11,
   "id": "1408c3fb-2371-4393-b617-ebcaae39e23a",
   "metadata": {},
   "outputs": [],
   "source": [
    "# results[\"tracks\"][\"items\"][0] # Explore the first song"
   ]
  },
  {
   "cell_type": "code",
   "execution_count": 117,
   "id": "f2c35eb2-3ea6-4329-9f29-7c062f466638",
   "metadata": {},
   "outputs": [
    {
     "data": {
      "text/plain": [
       "dict_keys(['album', 'artists', 'available_markets', 'disc_number', 'duration_ms', 'explicit', 'external_ids', 'external_urls', 'href', 'id', 'is_local', 'name', 'popularity', 'preview_url', 'track_number', 'type', 'uri'])"
      ]
     },
     "execution_count": 117,
     "metadata": {},
     "output_type": "execute_result"
    }
   ],
   "source": [
    "results[\"tracks\"][\"items\"][0].keys() # We will focus on album, artists, id, name, popularity, type and uri"
   ]
  },
  {
   "cell_type": "code",
   "execution_count": 118,
   "id": "889ca3c3-b0c8-4037-96fb-6add847f537f",
   "metadata": {},
   "outputs": [
    {
     "data": {
      "text/plain": [
       "[{'external_urls': {'spotify': 'https://open.spotify.com/artist/1HY2Jd0NmPuamShAr6KMms'},\n",
       "  'href': 'https://api.spotify.com/v1/artists/1HY2Jd0NmPuamShAr6KMms',\n",
       "  'id': '1HY2Jd0NmPuamShAr6KMms',\n",
       "  'name': 'Lady Gaga',\n",
       "  'type': 'artist',\n",
       "  'uri': 'spotify:artist:1HY2Jd0NmPuamShAr6KMms'}]"
      ]
     },
     "execution_count": 118,
     "metadata": {},
     "output_type": "execute_result"
    }
   ],
   "source": [
    "# Track artists\n",
    "results[\"tracks\"][\"items\"][0][\"artists\"] "
   ]
  },
  {
   "cell_type": "code",
   "execution_count": 119,
   "id": "a9c6a0b2-cea7-48ff-8c51-179d15388aa2",
   "metadata": {},
   "outputs": [
    {
     "name": "stdout",
     "output_type": "stream",
     "text": [
      "Lady Gaga\n"
     ]
    }
   ],
   "source": [
    "# Track artists names\n",
    "for artist in results[\"tracks\"][\"items\"][0][\"artists\"]:\n",
    "    print(artist[\"name\"])"
   ]
  },
  {
   "cell_type": "code",
   "execution_count": 120,
   "id": "6a826e9c-d2e7-4537-a82c-3dc3a2b80b9f",
   "metadata": {},
   "outputs": [
    {
     "data": {
      "text/plain": [
       "'0SiywuOBRcynK0uKGWdCnn'"
      ]
     },
     "execution_count": 120,
     "metadata": {},
     "output_type": "execute_result"
    }
   ],
   "source": [
    "# Track ID\n",
    "results[\"tracks\"][\"items\"][0][\"id\"] "
   ]
  },
  {
   "cell_type": "code",
   "execution_count": 121,
   "id": "a5bd871b-6087-4680-819c-1a1d8ba879bc",
   "metadata": {},
   "outputs": [
    {
     "data": {
      "text/plain": [
       "'Bad Romance'"
      ]
     },
     "execution_count": 121,
     "metadata": {},
     "output_type": "execute_result"
    }
   ],
   "source": [
    "# Track name\n",
    "results[\"tracks\"][\"items\"][0][\"name\"] "
   ]
  },
  {
   "cell_type": "code",
   "execution_count": 122,
   "id": "812661f1-29db-452f-a719-cdfbe95ba9f6",
   "metadata": {},
   "outputs": [
    {
     "data": {
      "text/plain": [
       "84"
      ]
     },
     "execution_count": 122,
     "metadata": {},
     "output_type": "execute_result"
    }
   ],
   "source": [
    "# Popularity index\n",
    "results[\"tracks\"][\"items\"][0][\"popularity\"] "
   ]
  },
  {
   "cell_type": "markdown",
   "id": "0e81c762-e6c5-424e-a4eb-12ab45dffb9f",
   "metadata": {},
   "source": [
    "Spotify songs are identified by either a \"url\", a \"uri\", or an \"id\". \n",
    "\n",
    "- The `id` is an alphanumeric code, and it's the nuclear part of the identifier.\n",
    "\n",
    "- The `uri` contains \"spotify:track\" before the id. An uri is useful because it can be searched manually in the Spotify app.\n",
    "\n",
    "- The `url` is a link to the song on the Spotify web player.\n"
   ]
  },
  {
   "cell_type": "markdown",
   "id": "71c3c9c1-4ec2-42bf-a243-b21105ae1699",
   "metadata": {},
   "source": [
    "## Exercise 1: Discovering New Music through Your Favorite Artists\n",
    "\n",
    "**Objective:** \n",
    "Uncover new music by exploring the top tracks of your favorite artists and their related artists.\n",
    "\n",
    "**Instructions:**\n",
    "\n",
    "1. **List Your Favorite Artists**:\n",
    "    - Make a list of your three favorite artists and store it in a variable named `artists`.\n",
    "    - Example: `artists = [\"Los Fabulosos Cadillacs\", \"Manu Chao\", \"Muchachito Bombo Infierno\"]`.\n",
    "\n",
    "2. **Fetch Top Tracks**:\n",
    "    - Write a function named `get_top_tracks`.\n",
    "    - This function should accept an artist's name and return the name of the first 5 top tracks by that artist.\n",
    "    - Use the function `get_top_tracks` to get the first 5 top tracks for each artist in your `artists` list and store the results in a new list named `top_tracks_list`.\n",
    "\n",
    "3. **Discover Related Artists**:\n",
    "    - Write a function named `find_related_artists`.\n",
    "    - This function should accept an artist's name and return the names of the first 5 artists related to the provided artist.\n",
    "    - Store the results in a list named `related_artists_list`.\n",
    "\n",
    "**Challenge:** \n",
    "Combine the above steps to create a playlist that includes the top tracks of your favorite artists and the top tracks of the artists related to them."
   ]
  },
  {
   "cell_type": "code",
   "execution_count": 45,
   "id": "29694252-f217-454d-8881-681b2b6eeb1e",
   "metadata": {},
   "outputs": [],
   "source": [
    "# Your answer here\n",
    "import requests\n",
    "import spotipy\n",
    "from spotipy.oauth2 import SpotifyClientCredentials\n",
    "import pandas as pd"
   ]
  },
  {
   "cell_type": "code",
   "execution_count": 46,
   "id": "122307d3-5313-4182-b2d5-fc0b26611d1c",
   "metadata": {},
   "outputs": [],
   "source": [
    "CLIENT_ID = \"4109b2d9f5014671863bb2df1d1fbdd3\"\n",
    "CLIENT_SECRET = \"5cb719fae80c4191a9c0b288f51bfe50\""
   ]
  },
  {
   "cell_type": "code",
   "execution_count": 47,
   "id": "957c1985-4012-4dcb-b1c7-68caa03a444e",
   "metadata": {},
   "outputs": [],
   "source": [
    "#Initialize SpotiPy with user credentials\n",
    "sp = spotipy.Spotify(auth_manager=SpotifyClientCredentials(client_id=CLIENT_ID,client_secret=CLIENT_SECRET))"
   ]
  },
  {
   "cell_type": "markdown",
   "id": "0726220f-246c-4b00-97cf-54a692959239",
   "metadata": {},
   "source": [
    "###### 1. List Your Favorite Artists"
   ]
  },
  {
   "cell_type": "code",
   "execution_count": 48,
   "id": "b38770e3-4edf-4808-afb3-4a924a937013",
   "metadata": {},
   "outputs": [],
   "source": [
    "# List of my favorite artists\n",
    "artists = [\"Without a Nation\", \"Futuro Incierto\", \"Papa y La Jauria Desprolija\"]"
   ]
  },
  {
   "cell_type": "markdown",
   "id": "478075e3-85c5-401f-9b20-f596de59becb",
   "metadata": {},
   "source": [
    "###### 2. Fetch Top Tracks"
   ]
  },
  {
   "cell_type": "code",
   "execution_count": 49,
   "id": "33f91e4d-bb35-46cc-9c72-7dadbdfeedb8",
   "metadata": {},
   "outputs": [
    {
     "name": "stdout",
     "output_type": "stream",
     "text": [
      "{'Without a Nation': ['Original Sin', 'White Horse', 'Move', 'Dying to Know', 'Let Me Inside'], 'Futuro Incierto': ['Entre las Piedras', 'Si Tú No Estás (Mi Corazón Se Parte en 2)', 'Fue Ayer', 'Sabor Amargo - Remastered', 'En las Aguas - Remastered'], 'Papa y La Jauria Desprolija': ['Quimera', 'Las Cosas Son Como Son', 'Coste Social', 'La Ventana Del Salón', 'Caminos']}\n"
     ]
    }
   ],
   "source": [
    "def get_top_tracks(artists):\n",
    "    # Dictionary to store top tracks for each artist\n",
    "    top_tracks_list = {}\n",
    "    top_tracks = {}\n",
    "    # Iterate through each artist\n",
    "    for artista in artists:\n",
    "        # Search for the artist\n",
    "        results = sp.search(q=f'artist:{artista}', type='artist', limit=3)\n",
    "        \n",
    "        # Extract the artist ID\n",
    "        if results['artists']['items']:\n",
    "            artist_id = results['artists']['items'][0]['id']\n",
    "            \n",
    "            # Get top tracks of the artist\n",
    "            top_tracks_response = sp.artist_top_tracks(artist_id)\n",
    "            tracks = top_tracks_response['tracks']\n",
    "            \n",
    "            # Extract track names and add to dictionary\n",
    "            top_tracks[artista] = [track['name'] for track in tracks]\n",
    "        else:\n",
    "            print(f\"Artist '{artista}' not found on Spotify.\")\n",
    "            \n",
    "        for artist, values in top_tracks.items():\n",
    "            top_tracks_list[artist] = values[:5]\n",
    "    \n",
    "    return top_tracks_list\n",
    "print(get_top_tracks(artists))"
   ]
  },
  {
   "cell_type": "markdown",
   "id": "655ca38f-89b3-4200-8f0a-309251dc9628",
   "metadata": {},
   "source": [
    "###### 3. Discover Related Artists"
   ]
  },
  {
   "cell_type": "code",
   "execution_count": 50,
   "id": "60e513cd-0e1f-4e41-8c6b-c29333d1a402",
   "metadata": {},
   "outputs": [
    {
     "name": "stdout",
     "output_type": "stream",
     "text": [
      "{'Without a Nation': 'No related artists found', 'Futuro Incierto': {'Dalevuelta': 19, '3 AL HILO': 2, 'Asmereir': 20, 'Antiestatika': 6, 'Tiempofuera': 8, 'Rezaka': 14, 'Aeropajitas': 21, 'LA FORMA': 16, 'RECARGA': 20, 'G-3': 13, 'INYECTORES': 21, 'Metamorphosis': 13, 'Tragokorto': 19, 'Héroe Inocente': 10, 'Contracorriente': 6, '40 Gramos': 19, 'YANKENPUNK': 7, 'TERREVIENTO': 6, 'Dmente Comun': 15, 'Atómica': 8}, 'Papa y La Jauria Desprolija': 'No related artists found'}\n"
     ]
    }
   ],
   "source": [
    "# Fetching Related Artists / artist_related_artists(artist_id)\n",
    "def find_related_artists(artists):\n",
    "    artist_related_artists = {}\n",
    "    for artista in artists:\n",
    "        results = sp.search(q=f'artist:{artista}', type='artist', limit=3)\n",
    "        uri = results['artists']['items'][0]['uri']\n",
    "        # Get related artists\n",
    "        related_artists = sp.artist_related_artists(uri)['artists']      \n",
    "        related_artists_list = {}\n",
    "        if related_artists:    \n",
    "            for related_artist in related_artists:\n",
    "                    name_related = related_artist['name']\n",
    "                    popularity_related = related_artist['popularity']\n",
    "                    related_artists_list[name_related] = popularity_related\n",
    "                    # Store related artists dictionary in the main dictionary with artist name as key\n",
    "                    artist_related_artists[artista] = related_artists_list\n",
    "        else:\n",
    "            artist_related_artists[artista] = 'No related artists found'\n",
    "    return artist_related_artists\n",
    "# Print the populated artist_related_artists dictionary\n",
    "print(find_related_artists(artists))"
   ]
  },
  {
   "cell_type": "markdown",
   "id": "94ad5fdc-22e5-4521-8aa1-c6833eb7e949",
   "metadata": {},
   "source": [
    "## Playlists\n",
    "\n",
    "The `sp.featured_playlists()` method in `spotipy` fetches a list of Spotify's featured playlists at a given moment. These are curated playlists that Spotify often highlights on the platform's homepage. The method provides a snapshot of the playlists that are being promoted or featured by Spotify at the time of the request.\n",
    "\n",
    "Once you've fetched the featured playlists, you can extract their IDs (and other details)."
   ]
  },
  {
   "cell_type": "code",
   "execution_count": 51,
   "id": "25fb0cf8-c13a-41b0-b8f8-7e0700fd1e41",
   "metadata": {},
   "outputs": [],
   "source": [
    "playlist = sp.featured_playlists() # We get a playlist id of a playlist we like"
   ]
  },
  {
   "cell_type": "markdown",
   "id": "90f558f3-c638-4df4-b5a4-e24f7847d52a",
   "metadata": {},
   "source": [
    "### Getting a Playlist's Details\n",
    "To fetch details about a specific playlist, you can use the playlist method. You'll need the playlist's Spotify ID."
   ]
  },
  {
   "cell_type": "markdown",
   "id": "0eef529f-617f-4ea3-8156-07472ac8e6d5",
   "metadata": {},
   "source": [
    "In this example, we will use the following playlist id: *37i9dQZF1DXd9zR7tdziuQ*"
   ]
  },
  {
   "cell_type": "code",
   "execution_count": 52,
   "id": "46d35121-9256-4cf4-81f5-118b87f7af32",
   "metadata": {},
   "outputs": [],
   "source": [
    "playlist_id = \"37i9dQZF1DXd9zR7tdziuQ\"\n",
    "playlist = sp.playlist(playlist_id)"
   ]
  },
  {
   "cell_type": "code",
   "execution_count": 53,
   "id": "5260f67f-6024-4fee-8449-30904f03bf76",
   "metadata": {},
   "outputs": [
    {
     "name": "stdout",
     "output_type": "stream",
     "text": [
      "Hits acústicos\n",
      "Relájate con tus canciones favoritas en versión acústica / Descontrai com versões acústicas das tuas músicas preferidas.\n"
     ]
    }
   ],
   "source": [
    "print(playlist['name'])  # Print the playlist's name\n",
    "print(playlist['description'])  # Print the playlist's description"
   ]
  },
  {
   "cell_type": "markdown",
   "id": "13bc8631-69f0-4b98-9cc9-5baecbaea9ba",
   "metadata": {},
   "source": [
    "### Getting Tracks from a Playlist\n",
    "If you want to get the tracks from a specific playlist, you can use the playlist_tracks method."
   ]
  },
  {
   "cell_type": "code",
   "execution_count": 54,
   "id": "4b52ecf9-8ec5-492d-ae3a-4d742b6c8845",
   "metadata": {},
   "outputs": [
    {
     "name": "stdout",
     "output_type": "stream",
     "text": [
      "Take Me Home, Country Roads\n",
      "True Colours\n",
      "La Vie En Rose\n",
      "Too Good At Goodbyes - Acoustic\n",
      "Sunday Morning - Acoustic\n",
      "You Are My Sunshine\n",
      "Cold Heart - Acoustic\n",
      "I'm Not the Only One - Live from Spotify, London\n",
      "September Song - Guitar Acoustic\n",
      "Collide - Acoustic Version\n",
      "Baby One More Time - Recorded at Spotify Studios New York City\n",
      "If You Ever Wanna Be In Love - James Bay Spotify Session 2015\n",
      "When You Love Someone - Acoustic\n",
      "Ain't Nobody (Loves Me Better) - Acoustic\n",
      "Rockabye - Acoustic Version\n",
      "Little Talks\n",
      "Shape of You - Acoustic\n",
      "Something Just Like This - Acoustic\n",
      "Wild Love - Acoustic\n",
      "Blinding Lights\n",
      "What About Us - Acoustic\n",
      "Linger\n",
      "Naked - Acoustic Version\n",
      "1973 - Acoustic\n",
      "Billie Jean\n",
      "Perfect - Acoustic\n",
      "Fix You - Live\n",
      "Can't Help Falling in Love\n",
      "Let It Go - James Bay Spotify Session 2015\n",
      "Heaven Is a Place on Earth\n",
      "Firestone - Live Acoustic Version\n",
      "Crazy in Love\n",
      "Chasing Cars\n",
      "Slow Dancing in a Burning Room - Acoustic\n",
      "Price Tag - Acoustic Version\n",
      "Dancing On My Own - Acoustic\n",
      "Halo\n",
      "Summertime Sadness (Acoustic Cover) feat. Keelan Donovan\n",
      "Another Love - Live from Spotify (SXSW)\n",
      "Girls Just Wanna Have Fun - Acoustic\n",
      "Ordinary World\n",
      "Kiss Me - AOL Sessions Acoustic Version\n",
      "All of Me - Live from Spotify Milan\n",
      "We Can't Stop - Acoustic\n",
      "Hey Ya - solo version\n",
      "Have You Ever Seen The Rain - Recorded at Electric Lady Studios NYC\n",
      "It Aint me - Acoustic\n",
      "IDGAF - Acoustic\n",
      "Bizarre Love Triangle - 2014 Remaster\n",
      "Too Much To Ask - Acoustic\n",
      "Mad World - Recorded at Metropolis Studios, London\n",
      "Chandelier - Live from The Village\n",
      "Wild World - Acoustic Version\n",
      "City of Stars\n",
      "Bad Day - Acoustic\n",
      "New Rules - Acoustic\n",
      "Don't Wanna Know - Acoustic Version\n",
      "Landslide\n",
      "Pretty Girl - Acoustic Version\n",
      "I Kissed a Girl\n",
      "U Remind Me - Recorded at Spotify Studios NYC\n",
      "Unchained Melody\n",
      "Rhythm Inside - Acoustic\n",
      "Sex On Fire\n",
      "I Wanna Dance with Somebody\n",
      "When Doves Cry - Recorded At Spotify Studios NYC\n",
      "Cold Water\n",
      "Creep\n",
      "2U - Acoustic Version\n",
      "Over the Rainbow\n",
      "Stitches\n",
      "Your Song - Acoustic\n",
      "Umbrella - Acoustic Version\n",
      "Please Keep Loving Me - Acoustic\n",
      "Shallow\n",
      "Silence\n",
      "I'm the One - Acoustic\n",
      "Brandy (You're a Fine Girl)\n",
      "Nervous - Acoustic\n",
      "She's On My Mind - Guitar Acoustic\n",
      "Crazy - Live Sessions\n",
      "Starboy - Acoustic\n",
      "Shut up and Dance\n",
      "Sugar - Acoustic\n",
      "Stay\n",
      "Dancing in the Moonlight - Acoustic Version\n",
      "XO\n",
      "How to Save a Life - Live in Nashville, TN - December 2006\n",
      "Send My Love (To Your New Lover) - Live\n",
      "Closer\n",
      "Maps\n",
      "Lot To Learn\n",
      "Scars To Your Beautiful\n",
      "Once In a While - Acoustic\n",
      "There's Nothing Holdin Me Back\n",
      "Perfect Strangers - Acoustic\n",
      "New Rules\n",
      "Hello\n",
      "Thunder\n",
      "High and Dry\n"
     ]
    }
   ],
   "source": [
    "tracks = sp.playlist_tracks(playlist_id)\n",
    "for track in tracks['items']:\n",
    "    song = track['track']['name']\n",
    "    print(song)"
   ]
  },
  {
   "cell_type": "markdown",
   "id": "2775714d-acc7-4555-96bd-2c541ab0855e",
   "metadata": {},
   "source": [
    "### Getting Artists from a Playlist\n",
    "\n",
    "To extract all the artists from the tracks in a playlist, you'd typically follow these steps:\n",
    "\n",
    "1. Fetch the playlist's tracks.\n",
    "2. Iterate through each track.\n",
    "3. For each track, extract the associated artists."
   ]
  },
  {
   "cell_type": "markdown",
   "id": "1a9ff5be-8823-451d-8490-bd039a65b3db",
   "metadata": {},
   "source": [
    "###### 1. Fetch the playlist's tracks."
   ]
  },
  {
   "cell_type": "code",
   "execution_count": 55,
   "id": "55a0089d-2dec-4ff8-9bed-a93dcd386e43",
   "metadata": {},
   "outputs": [],
   "source": [
    "tracks = sp.playlist_tracks(playlist_id)"
   ]
  },
  {
   "cell_type": "markdown",
   "id": "61d64082-ee8b-4296-a8f2-b6fe0287fe99",
   "metadata": {},
   "source": [
    "###### 2. Iterate through each track."
   ]
  },
  {
   "cell_type": "code",
   "execution_count": 56,
   "id": "b3e40071-26f9-4fc9-9f82-78f19593a83c",
   "metadata": {},
   "outputs": [],
   "source": [
    "playlist_track_artist_results = {}\n",
    "for track in tracks['items']:\n",
    "    song = track['track']['name']\n",
    "    artists = track['track']['artists'][0]['name']\n",
    "    playlist_track_artist_results[song] = artists"
   ]
  },
  {
   "cell_type": "markdown",
   "id": "27006ccc-42ef-4450-afcf-9b72c30a65b8",
   "metadata": {},
   "source": [
    "###### 3. For each track, extract the associated artists."
   ]
  },
  {
   "cell_type": "code",
   "execution_count": 57,
   "id": "65c5e5c4-f186-42c6-b136-4ef02b0b01ff",
   "metadata": {},
   "outputs": [
    {
     "name": "stdout",
     "output_type": "stream",
     "text": [
      "{'Take Me Home, Country Roads': 'Lana Del Rey', 'True Colours': 'Tom Odell', 'La Vie En Rose': 'Daniela Andrade', 'Too Good At Goodbyes - Acoustic': 'Sam Smith', 'Sunday Morning - Acoustic': 'Maroon 5', 'You Are My Sunshine': 'Jasmine Thompson', 'Cold Heart - Acoustic': 'Elton John', \"I'm Not the Only One - Live from Spotify, London\": 'Dua Lipa', 'September Song - Guitar Acoustic': 'JP Cooper', 'Collide - Acoustic Version': 'Howie Day', 'Baby One More Time - Recorded at Spotify Studios New York City': 'Ed Sheeran', 'If You Ever Wanna Be In Love - James Bay Spotify Session 2015': 'James Bay', 'When You Love Someone - Acoustic': 'James TW', \"Ain't Nobody (Loves Me Better) - Acoustic\": 'Jasmine Thompson', 'Rockabye - Acoustic Version': 'The Mayries', 'Little Talks': 'Julia Sheer', 'Shape of You - Acoustic': 'Ed Sheeran', 'Something Just Like This - Acoustic': 'Missy & Blonde', 'Wild Love - Acoustic': 'James Bay', 'Blinding Lights': 'Ouvindo', 'What About Us - Acoustic': 'Thomas Daniel', 'Linger': 'Freedom Fry', 'Naked - Acoustic Version': 'James Arthur', '1973 - Acoustic': 'James Blunt', 'Billie Jean': 'The Civil Wars', 'Perfect - Acoustic': 'Ed Sheeran', 'Fix You - Live': 'Sam Smith', \"Can't Help Falling in Love\": 'Kacey Musgraves', 'Let It Go - James Bay Spotify Session 2015': 'James Bay', 'Heaven Is a Place on Earth': 'The Mayries', 'Firestone - Live Acoustic Version': 'Kygo', 'Crazy in Love': 'Daniela Andrade', 'Chasing Cars': 'The Wind and The Wave', 'Slow Dancing in a Burning Room - Acoustic': 'John Mayer', 'Price Tag - Acoustic Version': 'Jessie J', 'Dancing On My Own - Acoustic': 'Calum Scott', 'Halo': 'Lotte Kestner', 'Summertime Sadness (Acoustic Cover) feat. Keelan Donovan': 'Megan Davies', 'Another Love - Live from Spotify (SXSW)': 'Tom Odell', 'Girls Just Wanna Have Fun - Acoustic': 'The Mayries', 'Ordinary World': 'Joy Williams', 'Kiss Me - AOL Sessions Acoustic Version': 'Sixpence None The Richer', 'All of Me - Live from Spotify Milan': 'John Legend', \"We Can't Stop - Acoustic\": 'Halloran & Kate', 'Hey Ya - solo version': 'Obadiah Parker', 'Have You Ever Seen The Rain - Recorded at Electric Lady Studios NYC': 'The Lumineers', 'It Aint me - Acoustic': 'Sara Farell', 'IDGAF - Acoustic': 'Dua Lipa', 'Bizarre Love Triangle - 2014 Remaster': 'Frente!', 'Too Much To Ask - Acoustic': 'Niall Horan', 'Mad World - Recorded at Metropolis Studios, London': 'Lily Allen', 'Chandelier - Live from The Village': 'Sia', 'Wild World - Acoustic Version': 'Joanna Wang', 'City of Stars': 'Gavin James', 'Bad Day - Acoustic': 'Daniel Powter', 'New Rules - Acoustic': 'Dua Lipa', \"Don't Wanna Know - Acoustic Version\": 'The Mayries', 'Landslide': 'Molly Parden', 'Pretty Girl - Acoustic Version': 'Becca Adams', 'I Kissed a Girl': 'William Fitzsimmons', 'U Remind Me - Recorded at Spotify Studios NYC': 'James TW', 'Unchained Melody': 'Lykke Li', 'Rhythm Inside - Acoustic': 'Calum Scott', 'Sex On Fire': 'Alex Cornell', 'I Wanna Dance with Somebody': 'Rachel Brown', 'When Doves Cry - Recorded At Spotify Studios NYC': 'Sarah Jarosz', 'Cold Water': 'Megan Davies', 'Creep': 'Arlo Parks', '2U - Acoustic Version': 'Clementine Duo', 'Over the Rainbow': \"Israel Kamakawiwo'ole\", 'Stitches': 'Jaclyn Davies', 'Your Song - Acoustic': 'Rita Ora', 'Umbrella - Acoustic Version': 'The Mayries', 'Please Keep Loving Me - Acoustic': 'James TW', 'Shallow': 'The Hound + The Fox', 'Silence': 'Reggii', \"I'm the One - Acoustic\": 'Sunset & Highland', \"Brandy (You're a Fine Girl)\": 'Catey Shaw', 'Nervous - Acoustic': 'Gavin James', \"She's On My Mind - Guitar Acoustic\": 'JP Cooper', 'Crazy - Live Sessions': 'Madilyn Bailey', 'Starboy - Acoustic': 'Simon Samaeng', 'Shut up and Dance': 'Anchor + Bell', 'Sugar - Acoustic': 'Francesco Yates', 'Stay': 'Missy & Blonde', 'Dancing in the Moonlight - Acoustic Version': 'Toploader', 'XO': 'Anna Elizabeth Laube', 'How to Save a Life - Live in Nashville, TN - December 2006': 'The Fray', 'Send My Love (To Your New Lover) - Live': \"I'm With Her\", 'Closer': 'Tore', 'Maps': 'Colin & Caroline', 'Lot To Learn': 'Vivid Color', 'Scars To Your Beautiful': 'Thomas Daniel', 'Once In a While - Acoustic': 'Timeflies', \"There's Nothing Holdin Me Back\": 'Q.Z.B', 'Perfect Strangers - Acoustic': 'Jonas Blue', 'New Rules': 'Becca Adams', 'Hello': 'Erato', 'Thunder': 'The Freed', 'High and Dry': 'Colin & Caroline'}\n"
     ]
    }
   ],
   "source": [
    "print(playlist_track_artist_results)"
   ]
  },
  {
   "cell_type": "markdown",
   "id": "7b52207e-a4f0-4f90-9f4e-3170d7f0f3fe",
   "metadata": {},
   "source": [
    "## Exercise 2: Unraveling the World of Playlists\n",
    "\n",
    "\n",
    "1. **Featured Exploration**: \n",
    "   - Fetch the list of Spotify's current featured playlists. \n",
    "   - Extract and display the names and IDs of the top 5 featured playlists.\n",
    "   \n",
    "2. **Deep Dive**:\n",
    "   - Choose any one of the top 5 featured playlists (you can choose the one you personally find most interesting or simply pick one randomly).\n",
    "   - Fetch and display its name, description, and total track count.\n",
    "\n",
    "3. **Track-tastic**:\n",
    "   - Extract and display the names of the first 10 tracks in the chosen playlist.\n",
    "\n",
    "4. **Artistic Flair**:\n",
    "   - Create a dictionary where the keys are the names of the first 10 tracks, and the values are lists containing the names of the artists associated with each track.\n",
    "   - For example: `{\"TrackName1\": [\"Artist1\", \"Artist2\"], \"TrackName2\": [\"Artist3\"]}`\n",
    "   "
   ]
  },
  {
   "cell_type": "markdown",
   "id": "042c47e4-735a-4be7-bbb2-6aab468a8e19",
   "metadata": {},
   "source": [
    "###### 1. Featured Exploration:"
   ]
  },
  {
   "cell_type": "code",
   "execution_count": 58,
   "id": "ed92d961-9646-4375-a386-ccc320a958f5",
   "metadata": {},
   "outputs": [],
   "source": [
    "# Fetch the list of Spotify's current featured playlists.\n",
    "featured_playlist = sp.featured_playlists() # We get a playlist id of a playlist we like"
   ]
  },
  {
   "cell_type": "code",
   "execution_count": 59,
   "id": "cd1e1361-88b1-4868-a4ed-500abca19417",
   "metadata": {},
   "outputs": [
    {
     "name": "stdout",
     "output_type": "stream",
     "text": [
      "{'Éxitos España': '37i9dQZF1DXaxEKcoCdWHD', 'PEGAO': '37i9dQZF1DX1HCSfq0nSal', 'Viva Latino': '37i9dQZF1DX10zKzsJ2jva', 'Viral España 2024': '37i9dQZF1DWVJv1UsWItkB', 'míticas': '37i9dQZF1DX2EiUAL7Wdfc'}\n"
     ]
    }
   ],
   "source": [
    "# Extract and display the names and IDs of the top 5 featured playlists.\n",
    "current_featured_playlist_results = {}\n",
    "current_featured_playlist = {}\n",
    "x = 0\n",
    "while x < 5:        \n",
    "    playlist_name = featured_playlist['playlists']['items'][x]['name']\n",
    "    playlist_id = featured_playlist['playlists']['items'][x]['id']\n",
    "    current_featured_playlist = {playlist_name: playlist_id}    \n",
    "    current_featured_playlist_results.update(current_featured_playlist)\n",
    "    x += 1\n",
    "print(current_featured_playlist_results)\n",
    "    "
   ]
  },
  {
   "cell_type": "markdown",
   "id": "fe1b90a6-05b7-44a6-af59-8f74144f1402",
   "metadata": {},
   "source": [
    "###### 2. Deep Dive"
   ]
  },
  {
   "cell_type": "code",
   "execution_count": 60,
   "id": "1c08e8c8-d4ac-4ddd-aa30-9beec8e48629",
   "metadata": {},
   "outputs": [
    {
     "name": "stdout",
     "output_type": "stream",
     "text": [
      "PEGAO : 37i9dQZF1DX1HCSfq0nSal . Si está pegao, está aquí. Feat. SAIKO . This playlist contains 40 songs\n"
     ]
    }
   ],
   "source": [
    "# Choose any one of the top 5 featured playlists (you can choose the one you personally find most interesting or simply pick one randomly).\n",
    "# Fetch and display its name, description, and total track count.\n",
    "playlist_name = featured_playlist['playlists']['items'][1]['name']\n",
    "playlist_id = featured_playlist['playlists']['items'][1]['id'] \n",
    "playlist_description = featured_playlist['playlists']['items'][1]['description']\n",
    "tracks = sp.playlist_tracks(playlist_id)\n",
    "x=0\n",
    "for track in tracks['items']:\n",
    "    x+=1\n",
    "tracks_count = x    \n",
    "print(playlist_name,\":\",playlist_id,\".\",playlist_description,\". This playlist contains\",tracks_count,\"songs\")"
   ]
  },
  {
   "cell_type": "markdown",
   "id": "8602201e-bfe7-4c89-8f20-47be76706601",
   "metadata": {},
   "source": [
    "###### 3. Track-tastic:"
   ]
  },
  {
   "cell_type": "code",
   "execution_count": 61,
   "id": "0250b756-c715-415d-8695-bd36d4f6caac",
   "metadata": {},
   "outputs": [
    {
     "name": "stdout",
     "output_type": "stream",
     "text": [
      "BADGYAL\n",
      "ADIVINO\n",
      "Santa\n",
      "BBY BOO - REMIX\n",
      "Kilerito\n",
      "LA NENA\n",
      "LA RANGER (feat. Myke Towers)\n",
      "YO LO SOÑÉ\n",
      "FRIKI\n",
      "Espectacular\n"
     ]
    }
   ],
   "source": [
    "# Extract and display the names of the first 10 tracks in the chosen playlist.\n",
    "playlist_id: '37i9dQZF1DX1HCSfq0nSal'\n",
    "tracks = sp.playlist_tracks(playlist_id)\n",
    "for i in range(min(10, len(tracks['items']))):    \n",
    "    song = tracks['items'][i]['track']['name']\n",
    "    print(song)"
   ]
  },
  {
   "cell_type": "markdown",
   "id": "45b49af8-cd74-4bec-8796-8de9b7d36c94",
   "metadata": {},
   "source": [
    "###### 4. Artistic Flair:"
   ]
  },
  {
   "cell_type": "code",
   "execution_count": 62,
   "id": "902c0cb6-bba6-42bd-b4e3-3eac8e5c8935",
   "metadata": {},
   "outputs": [
    {
     "name": "stdout",
     "output_type": "stream",
     "text": [
      "Dictionary of track names and associated artists:\n",
      "BADGYAL: ['SAIKO', 'JC Reyes']\n",
      "ADIVINO: ['Myke Towers', 'Bad Bunny']\n",
      "Santa: ['Rvssian', 'Rauw Alejandro', 'Ayra Starr']\n",
      "BBY BOO - REMIX: ['iZaak', 'Jhayco', 'Anuel AA']\n",
      "Kilerito: ['Brytiago', 'Anuel AA']\n",
      "LA NENA: ['Lyanno', 'Rauw Alejandro']\n",
      "LA RANGER (feat. Myke Towers): ['The Academy: Segunda Misión', 'Sech', 'Justin Quiles', 'Lenny Tavárez', 'Dalex', 'Dímelo Flow', 'Myke Towers']\n",
      "YO LO SOÑÉ: ['SAIKO', 'Omar Montes']\n",
      "FRIKI: ['Gonzy']\n",
      "Espectacular: ['Sky Rompiendo', 'Rauw Alejandro']\n"
     ]
    }
   ],
   "source": [
    "# Create a dictionary where the keys are the names of the first 10 tracks, and the values are lists containing the names of the artists associated \n",
    "playlist_id: '37i9dQZF1DX1HCSfq0nSal'\n",
    "tracks = sp.playlist_tracks(playlist_id)\n",
    "\n",
    "track_artists_dict = {}\n",
    "x = 10\n",
    "\n",
    "for i in range(min(x, len(tracks['items']))):\n",
    "    track = tracks['items'][i]['track']\n",
    "    track_name = track['name']\n",
    "    \n",
    "    artists_list = [artist['name'] for artist in track['artists']]\n",
    "    \n",
    "    # Store track name and associated artists in the dictionary\n",
    "    track_artists_dict[track_name] = artists_list\n",
    "\n",
    "# Print the resulting dictionary\n",
    "print(\"Dictionary of track names and associated artists:\")\n",
    "for track_name, artists_list in track_artists_dict.items():\n",
    "    print(f\"{track_name}: {artists_list}\")"
   ]
  }
 ],
 "metadata": {
  "kernelspec": {
   "display_name": "Python 3 (ipykernel)",
   "language": "python",
   "name": "python3"
  },
  "language_info": {
   "codemirror_mode": {
    "name": "ipython",
    "version": 3
   },
   "file_extension": ".py",
   "mimetype": "text/x-python",
   "name": "python",
   "nbconvert_exporter": "python",
   "pygments_lexer": "ipython3",
   "version": "3.11.7"
  }
 },
 "nbformat": 4,
 "nbformat_minor": 5
}
